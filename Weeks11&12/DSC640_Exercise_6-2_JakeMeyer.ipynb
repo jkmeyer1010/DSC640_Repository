{
 "cells": [
  {
   "cell_type": "markdown",
   "id": "2ec94498",
   "metadata": {},
   "source": [
    "## DCS 640 Data Presentation & Visualization (DSC640-T302 2231-1)\n",
    "## Bellevue University\n",
    "## 6.2 Exercises: Histogram, Box Plot,  Bullet Chart, and Additional Chart\n",
    "## Author: Jake Meyer\n",
    "## Date: 02/25/2023"
   ]
  },
  {
   "cell_type": "markdown",
   "id": "86b7c8f0",
   "metadata": {},
   "source": [
    "## Assignment Instructions:\n",
    "\n",
    "Submit 1 histogram, 1 box plot, 1 bullet chart, and 1 additional chart of your choice with Python"
   ]
  },
  {
   "cell_type": "code",
   "execution_count": 2,
   "id": "6452c85f",
   "metadata": {},
   "outputs": [],
   "source": [
    "'''\n",
    "Import the necessary libraries to complete Exercise 2.2.\n",
    "'''\n",
    "import numpy as np\n",
    "import pandas as pd\n",
    "import seaborn as sns\n",
    "import scipy.stats\n",
    "import matplotlib\n",
    "import matplotlib.pyplot as plt\n",
    "import matplotlib.patches as mpatches\n",
    "import plotly.express as px\n",
    "from matplotlib import cm\n",
    "%matplotlib inline"
   ]
  },
  {
   "cell_type": "code",
   "execution_count": 3,
   "id": "289b853c",
   "metadata": {},
   "outputs": [
    {
     "name": "stdout",
     "output_type": "stream",
     "text": [
      "numpy version: 1.23.5\n",
      "pandas version: 1.3.4\n",
      "seaborn version: 0.11.2\n",
      "matplotlib version: 3.4.3\n"
     ]
    }
   ],
   "source": [
    "'''\n",
    "Check the versions of the packages.\n",
    "'''\n",
    "print('numpy version:', np.__version__)\n",
    "print('pandas version:', pd.__version__)\n",
    "print('seaborn version:', sns.__version__)\n",
    "print('matplotlib version:', matplotlib.__version__)"
   ]
  },
  {
   "cell_type": "markdown",
   "id": "1355b653",
   "metadata": {},
   "source": [
    "## Dataset Understanding"
   ]
  },
  {
   "cell_type": "code",
   "execution_count": 4,
   "id": "e4a6abca",
   "metadata": {},
   "outputs": [],
   "source": [
    "'''\n",
    "Import the datasets.\n",
    "Note: A copy of the CSV file was placed into the same directory as this notebook.\n",
    "Utilize pd.read_csv() to read the file as a pandas data frame.\n",
    "'''\n",
    "df1 = pd.read_csv('birth-rate.csv')\n",
    "df2 = pd.read_csv('crimeratesbystate-formatted.csv')\n",
    "df3 = pd.read_csv('education.csv')"
   ]
  },
  {
   "cell_type": "code",
   "execution_count": 5,
   "id": "d5b2bee2",
   "metadata": {},
   "outputs": [
    {
     "data": {
      "text/html": [
       "<div>\n",
       "<style scoped>\n",
       "    .dataframe tbody tr th:only-of-type {\n",
       "        vertical-align: middle;\n",
       "    }\n",
       "\n",
       "    .dataframe tbody tr th {\n",
       "        vertical-align: top;\n",
       "    }\n",
       "\n",
       "    .dataframe thead th {\n",
       "        text-align: right;\n",
       "    }\n",
       "</style>\n",
       "<table border=\"1\" class=\"dataframe\">\n",
       "  <thead>\n",
       "    <tr style=\"text-align: right;\">\n",
       "      <th></th>\n",
       "      <th>Country</th>\n",
       "      <th>1960</th>\n",
       "      <th>1961</th>\n",
       "      <th>1962</th>\n",
       "      <th>1963</th>\n",
       "      <th>1964</th>\n",
       "      <th>1965</th>\n",
       "      <th>1966</th>\n",
       "      <th>1967</th>\n",
       "      <th>1968</th>\n",
       "      <th>...</th>\n",
       "      <th>1999</th>\n",
       "      <th>2000</th>\n",
       "      <th>2001</th>\n",
       "      <th>2002</th>\n",
       "      <th>2003</th>\n",
       "      <th>2004</th>\n",
       "      <th>2005</th>\n",
       "      <th>2006</th>\n",
       "      <th>2007</th>\n",
       "      <th>2008</th>\n",
       "    </tr>\n",
       "  </thead>\n",
       "  <tbody>\n",
       "    <tr>\n",
       "      <th>0</th>\n",
       "      <td>Aruba</td>\n",
       "      <td>36.400</td>\n",
       "      <td>35.179</td>\n",
       "      <td>33.863</td>\n",
       "      <td>32.459</td>\n",
       "      <td>30.994</td>\n",
       "      <td>29.513</td>\n",
       "      <td>28.069</td>\n",
       "      <td>26.721</td>\n",
       "      <td>25.518</td>\n",
       "      <td>...</td>\n",
       "      <td>15.024</td>\n",
       "      <td>14.528</td>\n",
       "      <td>14.041</td>\n",
       "      <td>13.579</td>\n",
       "      <td>13.153</td>\n",
       "      <td>12.772</td>\n",
       "      <td>12.441</td>\n",
       "      <td>12.159</td>\n",
       "      <td>11.919</td>\n",
       "      <td>11.716</td>\n",
       "    </tr>\n",
       "    <tr>\n",
       "      <th>1</th>\n",
       "      <td>Afghanistan</td>\n",
       "      <td>52.201</td>\n",
       "      <td>52.206</td>\n",
       "      <td>52.208</td>\n",
       "      <td>52.204</td>\n",
       "      <td>52.192</td>\n",
       "      <td>52.168</td>\n",
       "      <td>52.130</td>\n",
       "      <td>52.076</td>\n",
       "      <td>52.006</td>\n",
       "      <td>...</td>\n",
       "      <td>51.229</td>\n",
       "      <td>50.903</td>\n",
       "      <td>50.486</td>\n",
       "      <td>49.984</td>\n",
       "      <td>49.416</td>\n",
       "      <td>48.803</td>\n",
       "      <td>48.177</td>\n",
       "      <td>47.575</td>\n",
       "      <td>47.023</td>\n",
       "      <td>46.538</td>\n",
       "    </tr>\n",
       "    <tr>\n",
       "      <th>2</th>\n",
       "      <td>Angola</td>\n",
       "      <td>54.432</td>\n",
       "      <td>54.394</td>\n",
       "      <td>54.317</td>\n",
       "      <td>54.199</td>\n",
       "      <td>54.040</td>\n",
       "      <td>53.836</td>\n",
       "      <td>53.585</td>\n",
       "      <td>53.296</td>\n",
       "      <td>52.984</td>\n",
       "      <td>...</td>\n",
       "      <td>48.662</td>\n",
       "      <td>48.355</td>\n",
       "      <td>48.005</td>\n",
       "      <td>47.545</td>\n",
       "      <td>46.936</td>\n",
       "      <td>46.184</td>\n",
       "      <td>45.330</td>\n",
       "      <td>44.444</td>\n",
       "      <td>43.607</td>\n",
       "      <td>42.875</td>\n",
       "    </tr>\n",
       "    <tr>\n",
       "      <th>3</th>\n",
       "      <td>Albania</td>\n",
       "      <td>40.886</td>\n",
       "      <td>40.312</td>\n",
       "      <td>39.604</td>\n",
       "      <td>38.792</td>\n",
       "      <td>37.913</td>\n",
       "      <td>37.008</td>\n",
       "      <td>36.112</td>\n",
       "      <td>35.245</td>\n",
       "      <td>34.421</td>\n",
       "      <td>...</td>\n",
       "      <td>17.713</td>\n",
       "      <td>16.850</td>\n",
       "      <td>16.081</td>\n",
       "      <td>15.444</td>\n",
       "      <td>14.962</td>\n",
       "      <td>14.644</td>\n",
       "      <td>14.485</td>\n",
       "      <td>14.464</td>\n",
       "      <td>14.534</td>\n",
       "      <td>14.649</td>\n",
       "    </tr>\n",
       "    <tr>\n",
       "      <th>4</th>\n",
       "      <td>Netherlands Antilles</td>\n",
       "      <td>32.321</td>\n",
       "      <td>30.987</td>\n",
       "      <td>29.618</td>\n",
       "      <td>28.229</td>\n",
       "      <td>26.849</td>\n",
       "      <td>25.518</td>\n",
       "      <td>24.280</td>\n",
       "      <td>23.173</td>\n",
       "      <td>22.230</td>\n",
       "      <td>...</td>\n",
       "      <td>15.809</td>\n",
       "      <td>15.412</td>\n",
       "      <td>15.096</td>\n",
       "      <td>14.824</td>\n",
       "      <td>14.565</td>\n",
       "      <td>14.309</td>\n",
       "      <td>14.051</td>\n",
       "      <td>13.790</td>\n",
       "      <td>13.532</td>\n",
       "      <td>13.281</td>\n",
       "    </tr>\n",
       "  </tbody>\n",
       "</table>\n",
       "<p>5 rows × 50 columns</p>\n",
       "</div>"
      ],
      "text/plain": [
       "                Country    1960    1961    1962    1963    1964    1965  \\\n",
       "0                 Aruba  36.400  35.179  33.863  32.459  30.994  29.513   \n",
       "1           Afghanistan  52.201  52.206  52.208  52.204  52.192  52.168   \n",
       "2                Angola  54.432  54.394  54.317  54.199  54.040  53.836   \n",
       "3               Albania  40.886  40.312  39.604  38.792  37.913  37.008   \n",
       "4  Netherlands Antilles  32.321  30.987  29.618  28.229  26.849  25.518   \n",
       "\n",
       "     1966    1967    1968  ...    1999    2000    2001    2002    2003  \\\n",
       "0  28.069  26.721  25.518  ...  15.024  14.528  14.041  13.579  13.153   \n",
       "1  52.130  52.076  52.006  ...  51.229  50.903  50.486  49.984  49.416   \n",
       "2  53.585  53.296  52.984  ...  48.662  48.355  48.005  47.545  46.936   \n",
       "3  36.112  35.245  34.421  ...  17.713  16.850  16.081  15.444  14.962   \n",
       "4  24.280  23.173  22.230  ...  15.809  15.412  15.096  14.824  14.565   \n",
       "\n",
       "     2004    2005    2006    2007    2008  \n",
       "0  12.772  12.441  12.159  11.919  11.716  \n",
       "1  48.803  48.177  47.575  47.023  46.538  \n",
       "2  46.184  45.330  44.444  43.607  42.875  \n",
       "3  14.644  14.485  14.464  14.534  14.649  \n",
       "4  14.309  14.051  13.790  13.532  13.281  \n",
       "\n",
       "[5 rows x 50 columns]"
      ]
     },
     "execution_count": 5,
     "metadata": {},
     "output_type": "execute_result"
    }
   ],
   "source": [
    "'''\n",
    "Use head() function to display the first 5 rows of data of df1.\n",
    "'''\n",
    "df1.head()"
   ]
  },
  {
   "cell_type": "code",
   "execution_count": 6,
   "id": "d74f7c04",
   "metadata": {},
   "outputs": [
    {
     "data": {
      "text/html": [
       "<div>\n",
       "<style scoped>\n",
       "    .dataframe tbody tr th:only-of-type {\n",
       "        vertical-align: middle;\n",
       "    }\n",
       "\n",
       "    .dataframe tbody tr th {\n",
       "        vertical-align: top;\n",
       "    }\n",
       "\n",
       "    .dataframe thead th {\n",
       "        text-align: right;\n",
       "    }\n",
       "</style>\n",
       "<table border=\"1\" class=\"dataframe\">\n",
       "  <thead>\n",
       "    <tr style=\"text-align: right;\">\n",
       "      <th></th>\n",
       "      <th>state</th>\n",
       "      <th>murder</th>\n",
       "      <th>forcible_rape</th>\n",
       "      <th>robbery</th>\n",
       "      <th>aggravated_assault</th>\n",
       "      <th>burglary</th>\n",
       "      <th>larceny_theft</th>\n",
       "      <th>motor_vehicle_theft</th>\n",
       "    </tr>\n",
       "  </thead>\n",
       "  <tbody>\n",
       "    <tr>\n",
       "      <th>0</th>\n",
       "      <td>United States</td>\n",
       "      <td>5.6</td>\n",
       "      <td>31.7</td>\n",
       "      <td>140.7</td>\n",
       "      <td>291.1</td>\n",
       "      <td>726.7</td>\n",
       "      <td>2286.3</td>\n",
       "      <td>416.7</td>\n",
       "    </tr>\n",
       "    <tr>\n",
       "      <th>1</th>\n",
       "      <td>Alabama</td>\n",
       "      <td>8.2</td>\n",
       "      <td>34.3</td>\n",
       "      <td>141.4</td>\n",
       "      <td>247.8</td>\n",
       "      <td>953.8</td>\n",
       "      <td>2650.0</td>\n",
       "      <td>288.3</td>\n",
       "    </tr>\n",
       "    <tr>\n",
       "      <th>2</th>\n",
       "      <td>Alaska</td>\n",
       "      <td>4.8</td>\n",
       "      <td>81.1</td>\n",
       "      <td>80.9</td>\n",
       "      <td>465.1</td>\n",
       "      <td>622.5</td>\n",
       "      <td>2599.1</td>\n",
       "      <td>391.0</td>\n",
       "    </tr>\n",
       "    <tr>\n",
       "      <th>3</th>\n",
       "      <td>Arizona</td>\n",
       "      <td>7.5</td>\n",
       "      <td>33.8</td>\n",
       "      <td>144.4</td>\n",
       "      <td>327.4</td>\n",
       "      <td>948.4</td>\n",
       "      <td>2965.2</td>\n",
       "      <td>924.4</td>\n",
       "    </tr>\n",
       "    <tr>\n",
       "      <th>4</th>\n",
       "      <td>Arkansas</td>\n",
       "      <td>6.7</td>\n",
       "      <td>42.9</td>\n",
       "      <td>91.1</td>\n",
       "      <td>386.8</td>\n",
       "      <td>1084.6</td>\n",
       "      <td>2711.2</td>\n",
       "      <td>262.1</td>\n",
       "    </tr>\n",
       "  </tbody>\n",
       "</table>\n",
       "</div>"
      ],
      "text/plain": [
       "            state  murder  forcible_rape  robbery  aggravated_assault  \\\n",
       "0  United States      5.6           31.7    140.7               291.1   \n",
       "1        Alabama      8.2           34.3    141.4               247.8   \n",
       "2         Alaska      4.8           81.1     80.9               465.1   \n",
       "3        Arizona      7.5           33.8    144.4               327.4   \n",
       "4        Arkansas     6.7           42.9     91.1               386.8   \n",
       "\n",
       "   burglary  larceny_theft  motor_vehicle_theft  \n",
       "0     726.7         2286.3                416.7  \n",
       "1     953.8         2650.0                288.3  \n",
       "2     622.5         2599.1                391.0  \n",
       "3     948.4         2965.2                924.4  \n",
       "4    1084.6         2711.2                262.1  "
      ]
     },
     "execution_count": 6,
     "metadata": {},
     "output_type": "execute_result"
    }
   ],
   "source": [
    "'''\n",
    "Use head() function to display the first 5 rows of data of df2.\n",
    "'''\n",
    "df2.head()"
   ]
  },
  {
   "cell_type": "code",
   "execution_count": 7,
   "id": "16220abf",
   "metadata": {},
   "outputs": [
    {
     "data": {
      "text/html": [
       "<div>\n",
       "<style scoped>\n",
       "    .dataframe tbody tr th:only-of-type {\n",
       "        vertical-align: middle;\n",
       "    }\n",
       "\n",
       "    .dataframe tbody tr th {\n",
       "        vertical-align: top;\n",
       "    }\n",
       "\n",
       "    .dataframe thead th {\n",
       "        text-align: right;\n",
       "    }\n",
       "</style>\n",
       "<table border=\"1\" class=\"dataframe\">\n",
       "  <thead>\n",
       "    <tr style=\"text-align: right;\">\n",
       "      <th></th>\n",
       "      <th>state</th>\n",
       "      <th>reading</th>\n",
       "      <th>math</th>\n",
       "      <th>writing</th>\n",
       "      <th>percent_graduates_sat</th>\n",
       "      <th>pupil_staff_ratio</th>\n",
       "      <th>dropout_rate</th>\n",
       "    </tr>\n",
       "  </thead>\n",
       "  <tbody>\n",
       "    <tr>\n",
       "      <th>0</th>\n",
       "      <td>United States</td>\n",
       "      <td>501</td>\n",
       "      <td>515</td>\n",
       "      <td>493</td>\n",
       "      <td>46</td>\n",
       "      <td>7.9</td>\n",
       "      <td>4.4</td>\n",
       "    </tr>\n",
       "    <tr>\n",
       "      <th>1</th>\n",
       "      <td>Alabama</td>\n",
       "      <td>557</td>\n",
       "      <td>552</td>\n",
       "      <td>549</td>\n",
       "      <td>7</td>\n",
       "      <td>6.7</td>\n",
       "      <td>2.3</td>\n",
       "    </tr>\n",
       "    <tr>\n",
       "      <th>2</th>\n",
       "      <td>Alaska</td>\n",
       "      <td>520</td>\n",
       "      <td>516</td>\n",
       "      <td>492</td>\n",
       "      <td>46</td>\n",
       "      <td>7.9</td>\n",
       "      <td>7.3</td>\n",
       "    </tr>\n",
       "    <tr>\n",
       "      <th>3</th>\n",
       "      <td>Arizona</td>\n",
       "      <td>516</td>\n",
       "      <td>521</td>\n",
       "      <td>497</td>\n",
       "      <td>26</td>\n",
       "      <td>10.4</td>\n",
       "      <td>7.6</td>\n",
       "    </tr>\n",
       "    <tr>\n",
       "      <th>4</th>\n",
       "      <td>Arkansas</td>\n",
       "      <td>572</td>\n",
       "      <td>572</td>\n",
       "      <td>556</td>\n",
       "      <td>5</td>\n",
       "      <td>6.8</td>\n",
       "      <td>4.6</td>\n",
       "    </tr>\n",
       "  </tbody>\n",
       "</table>\n",
       "</div>"
      ],
      "text/plain": [
       "           state  reading  math  writing  percent_graduates_sat  \\\n",
       "0  United States      501   515      493                     46   \n",
       "1        Alabama      557   552      549                      7   \n",
       "2         Alaska      520   516      492                     46   \n",
       "3        Arizona      516   521      497                     26   \n",
       "4       Arkansas      572   572      556                      5   \n",
       "\n",
       "   pupil_staff_ratio  dropout_rate  \n",
       "0                7.9           4.4  \n",
       "1                6.7           2.3  \n",
       "2                7.9           7.3  \n",
       "3               10.4           7.6  \n",
       "4                6.8           4.6  "
      ]
     },
     "execution_count": 7,
     "metadata": {},
     "output_type": "execute_result"
    }
   ],
   "source": [
    "'''\n",
    "Use head() function to display the first 5 rows of data of df3.\n",
    "'''\n",
    "df3.head()"
   ]
  },
  {
   "cell_type": "code",
   "execution_count": 8,
   "id": "a98e4eec",
   "metadata": {},
   "outputs": [
    {
     "name": "stdout",
     "output_type": "stream",
     "text": [
      "There are 234 rows and 50 columns in the df1.\n"
     ]
    }
   ],
   "source": [
    "'''\n",
    "Understand the shape of the df1.\n",
    "'''\n",
    "print('There are {} rows and {} columns in the df1.'.format(df1.shape[0], df1.shape[1]))"
   ]
  },
  {
   "cell_type": "code",
   "execution_count": 10,
   "id": "718bb48d",
   "metadata": {},
   "outputs": [
    {
     "name": "stdout",
     "output_type": "stream",
     "text": [
      "There are 52 rows and 8 columns in the df2.\n"
     ]
    }
   ],
   "source": [
    "'''\n",
    "Understand the shape of the df2.\n",
    "'''\n",
    "print('There are {} rows and {} columns in the df2.'.format(df2.shape[0], df2.shape[1]))"
   ]
  },
  {
   "cell_type": "code",
   "execution_count": 11,
   "id": "9fa9f4ba",
   "metadata": {},
   "outputs": [
    {
     "name": "stdout",
     "output_type": "stream",
     "text": [
      "There are 52 rows and 7 columns in the df3.\n"
     ]
    }
   ],
   "source": [
    "'''\n",
    "Understand the shape of the df2.\n",
    "'''\n",
    "print('There are {} rows and {} columns in the df3.'.format(df3.shape[0], df3.shape[1]))"
   ]
  },
  {
   "cell_type": "code",
   "execution_count": 12,
   "id": "89c81c57",
   "metadata": {},
   "outputs": [
    {
     "name": "stdout",
     "output_type": "stream",
     "text": [
      "<class 'pandas.core.frame.DataFrame'>\n",
      "RangeIndex: 234 entries, 0 to 233\n",
      "Data columns (total 50 columns):\n",
      " #   Column   Non-Null Count  Dtype  \n",
      "---  ------   --------------  -----  \n",
      " 0   Country  234 non-null    object \n",
      " 1   1960     211 non-null    float64\n",
      " 2   1961     164 non-null    float64\n",
      " 3   1962     184 non-null    float64\n",
      " 4   1963     164 non-null    float64\n",
      " 5   1964     164 non-null    float64\n",
      " 6   1965     211 non-null    float64\n",
      " 7   1966     165 non-null    float64\n",
      " 8   1967     183 non-null    float64\n",
      " 9   1968     164 non-null    float64\n",
      " 10  1969     164 non-null    float64\n",
      " 11  1970     212 non-null    float64\n",
      " 12  1971     165 non-null    float64\n",
      " 13  1972     183 non-null    float64\n",
      " 14  1973     166 non-null    float64\n",
      " 15  1974     169 non-null    float64\n",
      " 16  1975     210 non-null    float64\n",
      " 17  1976     172 non-null    float64\n",
      " 18  1977     187 non-null    float64\n",
      " 19  1978     173 non-null    float64\n",
      " 20  1979     175 non-null    float64\n",
      " 21  1980     216 non-null    float64\n",
      " 22  1981     208 non-null    float64\n",
      " 23  1982     217 non-null    float64\n",
      " 24  1983     207 non-null    float64\n",
      " 25  1984     206 non-null    float64\n",
      " 26  1985     219 non-null    float64\n",
      " 27  1986     205 non-null    float64\n",
      " 28  1987     220 non-null    float64\n",
      " 29  1988     208 non-null    float64\n",
      " 30  1989     210 non-null    float64\n",
      " 31  1990     222 non-null    float64\n",
      " 32  1991     215 non-null    float64\n",
      " 33  1992     223 non-null    float64\n",
      " 34  1993     213 non-null    float64\n",
      " 35  1994     216 non-null    float64\n",
      " 36  1995     222 non-null    float64\n",
      " 37  1996     218 non-null    float64\n",
      " 38  1997     221 non-null    float64\n",
      " 39  1998     217 non-null    float64\n",
      " 40  1999     216 non-null    float64\n",
      " 41  2000     223 non-null    float64\n",
      " 42  2001     218 non-null    float64\n",
      " 43  2002     223 non-null    float64\n",
      " 44  2003     217 non-null    float64\n",
      " 45  2004     217 non-null    float64\n",
      " 46  2005     223 non-null    float64\n",
      " 47  2006     223 non-null    float64\n",
      " 48  2007     222 non-null    float64\n",
      " 49  2008     219 non-null    float64\n",
      "dtypes: float64(49), object(1)\n",
      "memory usage: 91.5+ KB\n"
     ]
    }
   ],
   "source": [
    "'''\n",
    "Find the type of data within each df1 column initially.\n",
    "'''\n",
    "df1.info()"
   ]
  },
  {
   "cell_type": "code",
   "execution_count": 13,
   "id": "53c59e5a",
   "metadata": {},
   "outputs": [
    {
     "name": "stdout",
     "output_type": "stream",
     "text": [
      "<class 'pandas.core.frame.DataFrame'>\n",
      "RangeIndex: 52 entries, 0 to 51\n",
      "Data columns (total 8 columns):\n",
      " #   Column               Non-Null Count  Dtype  \n",
      "---  ------               --------------  -----  \n",
      " 0   state                52 non-null     object \n",
      " 1   murder               52 non-null     float64\n",
      " 2   forcible_rape        52 non-null     float64\n",
      " 3   robbery              52 non-null     float64\n",
      " 4   aggravated_assault   52 non-null     float64\n",
      " 5   burglary             52 non-null     float64\n",
      " 6   larceny_theft        52 non-null     float64\n",
      " 7   motor_vehicle_theft  52 non-null     float64\n",
      "dtypes: float64(7), object(1)\n",
      "memory usage: 3.4+ KB\n"
     ]
    }
   ],
   "source": [
    "'''\n",
    "Find the type of data within each df2 column initially.\n",
    "'''\n",
    "df2.info()"
   ]
  },
  {
   "cell_type": "code",
   "execution_count": 14,
   "id": "a1032af2",
   "metadata": {},
   "outputs": [
    {
     "name": "stdout",
     "output_type": "stream",
     "text": [
      "<class 'pandas.core.frame.DataFrame'>\n",
      "RangeIndex: 52 entries, 0 to 51\n",
      "Data columns (total 7 columns):\n",
      " #   Column                 Non-Null Count  Dtype  \n",
      "---  ------                 --------------  -----  \n",
      " 0   state                  52 non-null     object \n",
      " 1   reading                52 non-null     int64  \n",
      " 2   math                   52 non-null     int64  \n",
      " 3   writing                52 non-null     int64  \n",
      " 4   percent_graduates_sat  52 non-null     int64  \n",
      " 5   pupil_staff_ratio      52 non-null     float64\n",
      " 6   dropout_rate           52 non-null     float64\n",
      "dtypes: float64(2), int64(4), object(1)\n",
      "memory usage: 3.0+ KB\n"
     ]
    }
   ],
   "source": [
    "'''\n",
    "Find the type of data within each df3 column initially.\n",
    "'''\n",
    "df3.info()"
   ]
  },
  {
   "cell_type": "code",
   "execution_count": 15,
   "id": "4bb0b05d",
   "metadata": {},
   "outputs": [
    {
     "data": {
      "text/plain": [
       "1961       70\n",
       "1963       70\n",
       "1964       70\n",
       "1968       70\n",
       "1969       70\n",
       "1966       69\n",
       "1971       69\n",
       "1973       68\n",
       "1974       65\n",
       "1976       62\n",
       "1978       61\n",
       "1979       59\n",
       "1972       51\n",
       "1967       51\n",
       "1962       50\n",
       "1977       47\n",
       "1986       29\n",
       "1984       28\n",
       "1983       27\n",
       "1981       26\n",
       "1988       26\n",
       "1975       24\n",
       "1989       24\n",
       "1965       23\n",
       "1960       23\n",
       "1970       22\n",
       "1993       21\n",
       "1991       19\n",
       "1980       18\n",
       "1994       18\n",
       "1999       18\n",
       "1998       17\n",
       "2003       17\n",
       "2004       17\n",
       "1982       17\n",
       "2001       16\n",
       "1996       16\n",
       "2008       15\n",
       "1985       15\n",
       "1987       14\n",
       "1997       13\n",
       "1995       12\n",
       "1990       12\n",
       "2007       12\n",
       "1992       11\n",
       "2000       11\n",
       "2002       11\n",
       "2005       11\n",
       "2006       11\n",
       "Country     0\n",
       "dtype: int64"
      ]
     },
     "execution_count": 15,
     "metadata": {},
     "output_type": "execute_result"
    }
   ],
   "source": [
    "'''\n",
    "Understand if there are any missing values in df1.\n",
    "'''\n",
    "df1.isna().sum().sort_values(ascending = False)"
   ]
  },
  {
   "cell_type": "code",
   "execution_count": 39,
   "id": "15c94793",
   "metadata": {},
   "outputs": [],
   "source": [
    "df1.dropna(inplace=True)"
   ]
  },
  {
   "cell_type": "code",
   "execution_count": 40,
   "id": "1c7185c6",
   "metadata": {},
   "outputs": [
    {
     "data": {
      "text/plain": [
       "Country    0\n",
       "1996       0\n",
       "1986       0\n",
       "1987       0\n",
       "1988       0\n",
       "1989       0\n",
       "1990       0\n",
       "1991       0\n",
       "1992       0\n",
       "1993       0\n",
       "1994       0\n",
       "1995       0\n",
       "1997       0\n",
       "1960       0\n",
       "1998       0\n",
       "1999       0\n",
       "2000       0\n",
       "2001       0\n",
       "2002       0\n",
       "2003       0\n",
       "2004       0\n",
       "2005       0\n",
       "2006       0\n",
       "2007       0\n",
       "1985       0\n",
       "1984       0\n",
       "1983       0\n",
       "1982       0\n",
       "1961       0\n",
       "1962       0\n",
       "1963       0\n",
       "1964       0\n",
       "1965       0\n",
       "1966       0\n",
       "1967       0\n",
       "1968       0\n",
       "1969       0\n",
       "1970       0\n",
       "1971       0\n",
       "1972       0\n",
       "1973       0\n",
       "1974       0\n",
       "1975       0\n",
       "1976       0\n",
       "1977       0\n",
       "1978       0\n",
       "1979       0\n",
       "1980       0\n",
       "1981       0\n",
       "2008       0\n",
       "dtype: int64"
      ]
     },
     "execution_count": 40,
     "metadata": {},
     "output_type": "execute_result"
    }
   ],
   "source": [
    "'''\n",
    "Understand if there are any missing values in df1.\n",
    "'''\n",
    "df1.isna().sum().sort_values(ascending = False)"
   ]
  },
  {
   "cell_type": "code",
   "execution_count": 17,
   "id": "68b0c7b8",
   "metadata": {},
   "outputs": [
    {
     "data": {
      "text/plain": [
       "state                  0\n",
       "murder                 0\n",
       "forcible_rape          0\n",
       "robbery                0\n",
       "aggravated_assault     0\n",
       "burglary               0\n",
       "larceny_theft          0\n",
       "motor_vehicle_theft    0\n",
       "dtype: int64"
      ]
     },
     "execution_count": 17,
     "metadata": {},
     "output_type": "execute_result"
    }
   ],
   "source": [
    "'''\n",
    "Understand if there are any missing values in df2.\n",
    "'''\n",
    "df2.isna().sum().sort_values(ascending = False)"
   ]
  },
  {
   "cell_type": "code",
   "execution_count": 18,
   "id": "c99c7b14",
   "metadata": {},
   "outputs": [
    {
     "data": {
      "text/plain": [
       "state                    0\n",
       "reading                  0\n",
       "math                     0\n",
       "writing                  0\n",
       "percent_graduates_sat    0\n",
       "pupil_staff_ratio        0\n",
       "dropout_rate             0\n",
       "dtype: int64"
      ]
     },
     "execution_count": 18,
     "metadata": {},
     "output_type": "execute_result"
    }
   ],
   "source": [
    "'''\n",
    "Understand if there are any missing values in df3.\n",
    "'''\n",
    "df3.isna().sum().sort_values(ascending = False)"
   ]
  },
  {
   "cell_type": "markdown",
   "id": "752f79e9",
   "metadata": {},
   "source": [
    "## Chart Creation from the Datasets. "
   ]
  },
  {
   "cell_type": "markdown",
   "id": "5e672546",
   "metadata": {},
   "source": [
    "### Histogram"
   ]
  },
  {
   "cell_type": "code",
   "execution_count": 25,
   "id": "dcb3f116",
   "metadata": {},
   "outputs": [
    {
     "data": {
      "text/plain": [
       "Text(0.5, 1.0, 'U.S. State Writing Scores')"
      ]
     },
     "execution_count": 25,
     "metadata": {},
     "output_type": "execute_result"
    },
    {
     "data": {
      "image/png": "[encoded data removed]",
      "text/plain": [
       "<Figure size 432x288 with 1 Axes>"
      ]
     },
     "metadata": {
      "needs_background": "light"
     },
     "output_type": "display_data"
    }
   ],
   "source": [
    "'''\n",
    "Create a histogram using matplotlib plt.hist().\n",
    "'''\n",
    "plt.hist(df3['writing'])\n",
    "plt.xlabel('Writing Scores')\n",
    "plt.ylabel('Count')\n",
    "plt.title('U.S. State Writing Scores')"
   ]
  },
  {
   "cell_type": "code",
   "execution_count": 29,
   "id": "2964b91c",
   "metadata": {},
   "outputs": [
    {
     "name": "stderr",
     "output_type": "stream",
     "text": [
      "C:\\Users\\jkmey\\anaconda3\\lib\\site-packages\\seaborn\\distributions.py:2619: FutureWarning: `distplot` is a deprecated function and will be removed in a future version. Please adapt your code to use either `displot` (a figure-level function with similar flexibility) or `histplot` (an axes-level function for histograms).\n",
      "  warnings.warn(msg, FutureWarning)\n"
     ]
    },
    {
     "data": {
      "text/plain": [
       "Text(0.5, 1.0, 'U.S. State Writing Scores')"
      ]
     },
     "execution_count": 29,
     "metadata": {},
     "output_type": "execute_result"
    },
    {
     "data": {
      "image/png": "[encoded data removed]",
      "text/plain": [
       "<Figure size 432x288 with 1 Axes>"
      ]
     },
     "metadata": {
      "needs_background": "light"
     },
     "output_type": "display_data"
    }
   ],
   "source": [
    "'''\n",
    "Create a histogram with Seaborn distplot()\n",
    "'''\n",
    "sns.distplot(df3['writing'], bins = 15)\n",
    "plt.xlabel('Writing Scores')\n",
    "plt.ylabel('Density')\n",
    "plt.title('U.S. State Writing Scores')"
   ]
  },
  {
   "cell_type": "markdown",
   "id": "c62033fd",
   "metadata": {},
   "source": [
    "### Box Plot"
   ]
  },
  {
   "cell_type": "code",
   "execution_count": 45,
   "id": "fbf0d711",
   "metadata": {},
   "outputs": [],
   "source": [
    "'''\n",
    "Revised df4 from education dataset for reading, writing, and math scores.\n",
    "'''\n",
    "df4 = pd.read_csv('education_revised.csv')"
   ]
  },
  {
   "cell_type": "code",
   "execution_count": 52,
   "id": "ddd925a2",
   "metadata": {},
   "outputs": [
    {
     "data": {
      "text/plain": [
       "Text(0.5, 1.0, 'U.S. Math, Reading, and Writing Scores')"
      ]
     },
     "execution_count": 52,
     "metadata": {},
     "output_type": "execute_result"
    },
    {
     "data": {
      "image/png": "[encoded data removed]",
      "text/plain": [
       "<Figure size 432x288 with 1 Axes>"
      ]
     },
     "metadata": {
      "needs_background": "light"
     },
     "output_type": "display_data"
    }
   ],
   "source": [
    "df4.boxplot(column = 'score', by = 'category')\n",
    "plt.xlabel('Category')\n",
    "plt.ylabel('Score')\n",
    "plt.title('U.S. Math, Reading, and Writing Scores')"
   ]
  },
  {
   "cell_type": "code",
   "execution_count": 53,
   "id": "c8b395b1",
   "metadata": {},
   "outputs": [
    {
     "data": {
      "text/plain": [
       "Text(0.5, 1.0, 'U.S. Math, Reading, and Writing Scores')"
      ]
     },
     "execution_count": 53,
     "metadata": {},
     "output_type": "execute_result"
    },
    {
     "data": {
      "image/png": "[encoded data removed]",
      "text/plain": [
       "<Figure size 432x288 with 1 Axes>"
      ]
     },
     "metadata": {
      "needs_background": "light"
     },
     "output_type": "display_data"
    }
   ],
   "source": [
    "sns.boxplot(x = 'category', y = 'score', data = df4, palette = 'hls')\n",
    "plt.xlabel('Category')\n",
    "plt.ylabel('Score')\n",
    "plt.title('U.S. Math, Reading, and Writing Scores')"
   ]
  },
  {
   "cell_type": "markdown",
   "id": "8bc9888e",
   "metadata": {},
   "source": [
    "### Bullet Chart"
   ]
  },
  {
   "cell_type": "code",
   "execution_count": 54,
   "id": "c796f035",
   "metadata": {},
   "outputs": [
    {
     "data": {
      "image/png": "[encoded data removed]",
      "text/plain": [
       "<Figure size 360x72 with 1 Axes>"
      ]
     },
     "metadata": {
      "needs_background": "light"
     },
     "output_type": "display_data"
    }
   ],
   "source": [
    "sns.palplot(sns.light_palette(\"green\", 5))"
   ]
  },
  {
   "cell_type": "code",
   "execution_count": 55,
   "id": "282dfd43",
   "metadata": {},
   "outputs": [],
   "source": [
    "'''\n",
    "Function pulled from pbpython.com/bullet-graph.html.\n",
    "'''\n",
    "def bulletgraph(data=None, limits=None, labels=None, axis_label=None, title=None,\n",
    "                size=(5, 3), palette=None, formatter=None, target_color=\"gray\",\n",
    "                bar_color=\"black\", label_color=\"gray\"):\n",
    "    \"\"\" Build out a bullet graph image\n",
    "        Args:\n",
    "            data = List of labels, measures and targets\n",
    "            limits = list of range valules\n",
    "            labels = list of descriptions of the limit ranges\n",
    "            axis_label = string describing x axis\n",
    "            title = string title of plot\n",
    "            size = tuple for plot size\n",
    "            palette = a seaborn palette\n",
    "            formatter = matplotlib formatter object for x axis\n",
    "            target_color = color string for the target line\n",
    "            bar_color = color string for the small bar\n",
    "            label_color = color string for the limit label text\n",
    "        Returns:\n",
    "            a matplotlib figure\n",
    "    \"\"\"\n",
    "    # Determine the max value for adjusting the bar height\n",
    "    # Dividing by 10 seems to work pretty well\n",
    "    h = limits[-1] / 10\n",
    "\n",
    "    # Use the green palette as a sensible default\n",
    "    if palette is None:\n",
    "        palette = sns.light_palette(\"green\", len(limits), reverse=False)\n",
    "\n",
    "    # Must be able to handle one or many data sets via multiple subplots\n",
    "    if len(data) == 1:\n",
    "        fig, ax = plt.subplots(figsize=size, sharex=True)\n",
    "    else:\n",
    "        fig, axarr = plt.subplots(len(data), figsize=size, sharex=True)\n",
    "\n",
    "    # Add each bullet graph bar to a subplot\n",
    "    for idx, item in enumerate(data):\n",
    "\n",
    "        # Get the axis from the array of axes returned when the plot is created\n",
    "        if len(data) > 1:\n",
    "            ax = axarr[idx]\n",
    "\n",
    "        # Formatting to get rid of extra marking clutter\n",
    "        ax.set_aspect('equal')\n",
    "        ax.set_yticklabels([item[0]])\n",
    "        ax.set_yticks([1])\n",
    "        ax.spines['bottom'].set_visible(False)\n",
    "        ax.spines['top'].set_visible(False)\n",
    "        ax.spines['right'].set_visible(False)\n",
    "        ax.spines['left'].set_visible(False)\n",
    "\n",
    "        prev_limit = 0\n",
    "        for idx2, lim in enumerate(limits):\n",
    "            # Draw the bar\n",
    "            ax.barh([1], lim - prev_limit, left=prev_limit, height=h,\n",
    "                    color=palette[idx2])\n",
    "            prev_limit = lim\n",
    "        rects = ax.patches\n",
    "        # The last item in the list is the value we're measuring\n",
    "        # Draw the value we're measuring\n",
    "        ax.barh([1], item[1], height=(h / 3), color=bar_color)\n",
    "\n",
    "        # Need the ymin and max in order to make sure the target marker\n",
    "        # fits\n",
    "        ymin, ymax = ax.get_ylim()\n",
    "        ax.vlines(\n",
    "            item[2], ymin * .9, ymax * .9, linewidth=1.5, color=target_color)\n",
    "\n",
    "    # Now make some labels\n",
    "    if labels is not None:\n",
    "        for rect, label in zip(rects, labels):\n",
    "            height = rect.get_height()\n",
    "            ax.text(\n",
    "                rect.get_x() + rect.get_width() / 2,\n",
    "                -height * .4,\n",
    "                label,\n",
    "                ha='center',\n",
    "                va='bottom',\n",
    "                color=label_color)\n",
    "    if formatter:\n",
    "        ax.xaxis.set_major_formatter(formatter)\n",
    "    if axis_label:\n",
    "        ax.set_xlabel(axis_label)\n",
    "    if title:\n",
    "        fig.suptitle(title, fontsize=14)\n",
    "    fig.subplots_adjust(hspace=0)"
   ]
  },
  {
   "cell_type": "code",
   "execution_count": 65,
   "id": "edc2d3f3",
   "metadata": {},
   "outputs": [],
   "source": [
    "'''\n",
    "Create the data to plot from the education dataset.\n",
    "'''\n",
    "data_to_plot2 = [(\"Math\", 541, 600),\n",
    "                 (\"Reading\", 536, 590),\n",
    "                 (\"Writing\", 523, 590)]"
   ]
  },
  {
   "cell_type": "code",
   "execution_count": 66,
   "id": "e1e74f3b",
   "metadata": {},
   "outputs": [
    {
     "name": "stderr",
     "output_type": "stream",
     "text": [
      "C:\\Users\\jkmey\\AppData\\Local\\Temp/ipykernel_732/3132978703.py:43: UserWarning: FixedFormatter should only be used together with FixedLocator\n",
      "  ax.set_yticklabels([item[0]])\n"
     ]
    },
    {
     "data": {
      "image/png": "[encoded data removed]",
      "text/plain": [
       "<Figure size 864x360 with 3 Axes>"
      ]
     },
     "metadata": {
      "needs_background": "light"
     },
     "output_type": "display_data"
    }
   ],
   "source": [
    "'''\n",
    "Generate the bullet chart.\n",
    "'''\n",
    "bulletgraph(data_to_plot2, limits=[500, 550, 650],\n",
    "            labels=[\"Low\", \"Medium\", \"High\"], size=(12,5),\n",
    "            axis_label=\"Performance Measure\", label_color=\"black\",\n",
    "            bar_color=\"#252525\", target_color='#f7f7f7',\n",
    "            title=\"Reading, Writing, and Math Performance Scores\")"
   ]
  },
  {
   "cell_type": "markdown",
   "id": "34cb099e",
   "metadata": {},
   "source": [
    "### Additional Chart - Lollipop Plot"
   ]
  },
  {
   "cell_type": "code",
   "execution_count": 84,
   "id": "326d4f4b",
   "metadata": {},
   "outputs": [],
   "source": [
    "'''\n",
    "Create the data for the lollipop plot.\n",
    "'''\n",
    "x = range(1,31)\n",
    "values = np.random.uniform(size = 30)"
   ]
  },
  {
   "cell_type": "code",
   "execution_count": 86,
   "id": "39ecf791",
   "metadata": {},
   "outputs": [
    {
     "data": {
      "image/png": "[encoded data removed]",
      "text/plain": [
       "<Figure size 432x288 with 1 Axes>"
      ]
     },
     "metadata": {
      "needs_background": "light"
     },
     "output_type": "display_data"
    }
   ],
   "source": [
    "'''\n",
    "Use the stem function from matplotlib.\n",
    "'''\n",
    "plt.stem(x, values)\n",
    "plt.ylim(0, 1.2)\n",
    "plt.xlabel('X - Label')\n",
    "plt.ylabel('Y - Label')\n",
    "plt.title('Random Values - Lollipop Chart')\n",
    "plt.show()"
   ]
  }
 ],
 "metadata": {
  "kernelspec": {
   "display_name": "Python 3 (ipykernel)",
   "language": "python",
   "name": "python3"
  },
  "language_info": {
   "codemirror_mode": {
    "name": "ipython",
    "version": 3
   },
   "file_extension": ".py",
   "mimetype": "text/x-python",
   "name": "python",
   "nbconvert_exporter": "python",
   "pygments_lexer": "ipython3",
   "version": "3.9.7"
  }
 },
 "nbformat": 4,
 "nbformat_minor": 5
}
