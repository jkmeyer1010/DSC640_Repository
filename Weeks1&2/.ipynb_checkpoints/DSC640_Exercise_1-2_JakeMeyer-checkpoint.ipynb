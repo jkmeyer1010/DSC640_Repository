{
 "cells": [
  {
   "cell_type": "markdown",
   "id": "2ec94498",
   "metadata": {},
   "source": [
    "# DCS 640 Data Presentation & Visualization (DSC640-T302 2231-1)\n",
    "## Bellevue University\n",
    "## 1.2 Exercises: Charts\n",
    "## Author: Jake Meyer\n",
    "## Date: 12/06/2022"
   ]
  },
  {
   "cell_type": "markdown",
   "id": "86b7c8f0",
   "metadata": {},
   "source": [
    "## Assignment Instructions:\n",
    "\n",
    "Submit 1 bar chart, 1 stacked bar chart, 1 pie chart, and 1 donut chart with Python"
   ]
  },
  {
   "cell_type": "code",
   "execution_count": 1,
   "id": "6452c85f",
   "metadata": {},
   "outputs": [],
   "source": [
    "'''\n",
    "Import the necessary libraries to complete Exercise 1.2.\n",
    "'''\n",
    "import numpy as np\n",
    "import pandas as pd\n",
    "import seaborn as sns\n",
    "import scipy.stats\n",
    "import matplotlib\n",
    "import matplotlib.pyplot as plt"
   ]
  },
  {
   "cell_type": "code",
   "execution_count": 2,
   "id": "289b853c",
   "metadata": {},
   "outputs": [
    {
     "name": "stdout",
     "output_type": "stream",
     "text": [
      "numpy version: 1.20.3\n",
      "pandas version: 1.3.4\n",
      "seaborn version: 0.11.2\n",
      "matplotlib version: 3.4.3\n"
     ]
    }
   ],
   "source": [
    "'''\n",
    "Check the versions of the packages.\n",
    "'''\n",
    "print('numpy version:', np.__version__)\n",
    "print('pandas version:', pd.__version__)\n",
    "print('seaborn version:', sns.__version__)\n",
    "print('matplotlib version:', matplotlib.__version__)"
   ]
  },
  {
   "cell_type": "markdown",
   "id": "1355b653",
   "metadata": {},
   "source": [
    "## Dataset Understanding"
   ]
  },
  {
   "cell_type": "code",
   "execution_count": 3,
   "id": "e4a6abca",
   "metadata": {},
   "outputs": [],
   "source": [
    "'''\n",
    "Import the datasets.\n",
    "Note: A copy of the CSV file was placed into the same directory as this notebook.\n",
    "Utilize pd.read_excel() to read the file as a pandas data frame.\n",
    "'''\n",
    "df1 = pd.read_excel('hotdog-contest-winners.xlsm')\n",
    "df2 = pd.read_excel('hotdog-places.xlsm')\n",
    "df3 = pd.read_excel('obama-approval-ratings.xls')"
   ]
  },
  {
   "cell_type": "code",
   "execution_count": 4,
   "id": "d5b2bee2",
   "metadata": {},
   "outputs": [
    {
     "data": {
      "text/html": [
       "<div>\n",
       "<style scoped>\n",
       "    .dataframe tbody tr th:only-of-type {\n",
       "        vertical-align: middle;\n",
       "    }\n",
       "\n",
       "    .dataframe tbody tr th {\n",
       "        vertical-align: top;\n",
       "    }\n",
       "\n",
       "    .dataframe thead th {\n",
       "        text-align: right;\n",
       "    }\n",
       "</style>\n",
       "<table border=\"1\" class=\"dataframe\">\n",
       "  <thead>\n",
       "    <tr style=\"text-align: right;\">\n",
       "      <th></th>\n",
       "      <th>Year</th>\n",
       "      <th>Winner</th>\n",
       "      <th>Dogs eaten</th>\n",
       "      <th>Country</th>\n",
       "      <th>New record</th>\n",
       "    </tr>\n",
       "  </thead>\n",
       "  <tbody>\n",
       "    <tr>\n",
       "      <th>0</th>\n",
       "      <td>1980</td>\n",
       "      <td>Paul Siederman &amp; Joe Baldini</td>\n",
       "      <td>9.1</td>\n",
       "      <td>United States</td>\n",
       "      <td>0</td>\n",
       "    </tr>\n",
       "    <tr>\n",
       "      <th>1</th>\n",
       "      <td>1981</td>\n",
       "      <td>Thomas DeBerry</td>\n",
       "      <td>11.0</td>\n",
       "      <td>United States</td>\n",
       "      <td>0</td>\n",
       "    </tr>\n",
       "    <tr>\n",
       "      <th>2</th>\n",
       "      <td>1982</td>\n",
       "      <td>Steven Abrams</td>\n",
       "      <td>11.0</td>\n",
       "      <td>United States</td>\n",
       "      <td>0</td>\n",
       "    </tr>\n",
       "    <tr>\n",
       "      <th>3</th>\n",
       "      <td>1983</td>\n",
       "      <td>Luis Llamas</td>\n",
       "      <td>19.5</td>\n",
       "      <td>Mexico</td>\n",
       "      <td>0</td>\n",
       "    </tr>\n",
       "    <tr>\n",
       "      <th>4</th>\n",
       "      <td>1984</td>\n",
       "      <td>Birgit Felden</td>\n",
       "      <td>9.5</td>\n",
       "      <td>Germany</td>\n",
       "      <td>0</td>\n",
       "    </tr>\n",
       "  </tbody>\n",
       "</table>\n",
       "</div>"
      ],
      "text/plain": [
       "   Year                        Winner  Dogs eaten        Country  New record\n",
       "0  1980  Paul Siederman & Joe Baldini         9.1  United States           0\n",
       "1  1981               Thomas DeBerry         11.0  United States           0\n",
       "2  1982                Steven Abrams         11.0  United States           0\n",
       "3  1983                  Luis Llamas         19.5         Mexico           0\n",
       "4  1984                Birgit Felden          9.5        Germany           0"
      ]
     },
     "execution_count": 4,
     "metadata": {},
     "output_type": "execute_result"
    }
   ],
   "source": [
    "'''\n",
    "Use head() function to display the first 5 rows of data of df1.\n",
    "'''\n",
    "df1.head()"
   ]
  },
  {
   "cell_type": "code",
   "execution_count": 5,
   "id": "f982ea64",
   "metadata": {},
   "outputs": [
    {
     "data": {
      "text/html": [
       "<div>\n",
       "<style scoped>\n",
       "    .dataframe tbody tr th:only-of-type {\n",
       "        vertical-align: middle;\n",
       "    }\n",
       "\n",
       "    .dataframe tbody tr th {\n",
       "        vertical-align: top;\n",
       "    }\n",
       "\n",
       "    .dataframe thead th {\n",
       "        text-align: right;\n",
       "    }\n",
       "</style>\n",
       "<table border=\"1\" class=\"dataframe\">\n",
       "  <thead>\n",
       "    <tr style=\"text-align: right;\">\n",
       "      <th></th>\n",
       "      <th>2000</th>\n",
       "      <th>2001</th>\n",
       "      <th>2002</th>\n",
       "      <th>2003</th>\n",
       "      <th>2004</th>\n",
       "      <th>2005</th>\n",
       "      <th>2006</th>\n",
       "      <th>2007</th>\n",
       "      <th>2008</th>\n",
       "      <th>2009</th>\n",
       "      <th>2010</th>\n",
       "    </tr>\n",
       "  </thead>\n",
       "  <tbody>\n",
       "    <tr>\n",
       "      <th>0</th>\n",
       "      <td>25</td>\n",
       "      <td>50.0</td>\n",
       "      <td>50.5</td>\n",
       "      <td>44.5</td>\n",
       "      <td>53.5</td>\n",
       "      <td>49</td>\n",
       "      <td>54</td>\n",
       "      <td>66</td>\n",
       "      <td>59</td>\n",
       "      <td>68.0</td>\n",
       "      <td>54</td>\n",
       "    </tr>\n",
       "    <tr>\n",
       "      <th>1</th>\n",
       "      <td>24</td>\n",
       "      <td>31.0</td>\n",
       "      <td>26.0</td>\n",
       "      <td>30.5</td>\n",
       "      <td>38.0</td>\n",
       "      <td>37</td>\n",
       "      <td>52</td>\n",
       "      <td>63</td>\n",
       "      <td>59</td>\n",
       "      <td>64.5</td>\n",
       "      <td>43</td>\n",
       "    </tr>\n",
       "    <tr>\n",
       "      <th>2</th>\n",
       "      <td>22</td>\n",
       "      <td>23.5</td>\n",
       "      <td>25.5</td>\n",
       "      <td>29.5</td>\n",
       "      <td>32.0</td>\n",
       "      <td>32</td>\n",
       "      <td>37</td>\n",
       "      <td>49</td>\n",
       "      <td>42</td>\n",
       "      <td>55.0</td>\n",
       "      <td>37</td>\n",
       "    </tr>\n",
       "  </tbody>\n",
       "</table>\n",
       "</div>"
      ],
      "text/plain": [
       "   2000  2001  2002  2003  2004  2005  2006  2007  2008  2009  2010\n",
       "0    25  50.0  50.5  44.5  53.5    49    54    66    59  68.0    54\n",
       "1    24  31.0  26.0  30.5  38.0    37    52    63    59  64.5    43\n",
       "2    22  23.5  25.5  29.5  32.0    32    37    49    42  55.0    37"
      ]
     },
     "execution_count": 5,
     "metadata": {},
     "output_type": "execute_result"
    }
   ],
   "source": [
    "'''\n",
    "Use head() function to display the first 5 rows of data of df2.\n",
    "'''\n",
    "df2.head()"
   ]
  },
  {
   "cell_type": "code",
   "execution_count": 6,
   "id": "9a9ddd13",
   "metadata": {},
   "outputs": [
    {
     "data": {
      "text/html": [
       "<div>\n",
       "<style scoped>\n",
       "    .dataframe tbody tr th:only-of-type {\n",
       "        vertical-align: middle;\n",
       "    }\n",
       "\n",
       "    .dataframe tbody tr th {\n",
       "        vertical-align: top;\n",
       "    }\n",
       "\n",
       "    .dataframe thead th {\n",
       "        text-align: right;\n",
       "    }\n",
       "</style>\n",
       "<table border=\"1\" class=\"dataframe\">\n",
       "  <thead>\n",
       "    <tr style=\"text-align: right;\">\n",
       "      <th></th>\n",
       "      <th>Issue</th>\n",
       "      <th>Approve</th>\n",
       "      <th>Disapprove</th>\n",
       "      <th>None</th>\n",
       "    </tr>\n",
       "  </thead>\n",
       "  <tbody>\n",
       "    <tr>\n",
       "      <th>0</th>\n",
       "      <td>Race Relations</td>\n",
       "      <td>52</td>\n",
       "      <td>38</td>\n",
       "      <td>10</td>\n",
       "    </tr>\n",
       "    <tr>\n",
       "      <th>1</th>\n",
       "      <td>Education</td>\n",
       "      <td>49</td>\n",
       "      <td>40</td>\n",
       "      <td>11</td>\n",
       "    </tr>\n",
       "    <tr>\n",
       "      <th>2</th>\n",
       "      <td>Terrorism</td>\n",
       "      <td>48</td>\n",
       "      <td>45</td>\n",
       "      <td>7</td>\n",
       "    </tr>\n",
       "    <tr>\n",
       "      <th>3</th>\n",
       "      <td>Energy Policy</td>\n",
       "      <td>47</td>\n",
       "      <td>42</td>\n",
       "      <td>11</td>\n",
       "    </tr>\n",
       "    <tr>\n",
       "      <th>4</th>\n",
       "      <td>Foreign Affairs</td>\n",
       "      <td>44</td>\n",
       "      <td>48</td>\n",
       "      <td>8</td>\n",
       "    </tr>\n",
       "  </tbody>\n",
       "</table>\n",
       "</div>"
      ],
      "text/plain": [
       "             Issue  Approve  Disapprove  None\n",
       "0   Race Relations       52          38    10\n",
       "1        Education       49          40    11\n",
       "2        Terrorism       48          45     7\n",
       "3    Energy Policy       47          42    11\n",
       "4  Foreign Affairs       44          48     8"
      ]
     },
     "execution_count": 6,
     "metadata": {},
     "output_type": "execute_result"
    }
   ],
   "source": [
    "'''\n",
    "Use head() function to display the first 5 rows of data of df3.\n",
    "'''\n",
    "df3.head()"
   ]
  },
  {
   "cell_type": "code",
   "execution_count": 7,
   "id": "a98e4eec",
   "metadata": {},
   "outputs": [
    {
     "name": "stdout",
     "output_type": "stream",
     "text": [
      "There are 31 rows and 5 columns in the df1.\n"
     ]
    }
   ],
   "source": [
    "'''\n",
    "Understand the shape of the df1.\n",
    "'''\n",
    "print('There are {} rows and {} columns in the df1.'.format(df1.shape[0], df1.shape[1]))"
   ]
  },
  {
   "cell_type": "code",
   "execution_count": 8,
   "id": "4bb33c8e",
   "metadata": {},
   "outputs": [
    {
     "name": "stdout",
     "output_type": "stream",
     "text": [
      "There are 3 rows and 11 columns in the df2.\n"
     ]
    }
   ],
   "source": [
    "'''\n",
    "Understand the shape of the df2.\n",
    "'''\n",
    "print('There are {} rows and {} columns in the df2.'.format(df2.shape[0], df2.shape[1]))"
   ]
  },
  {
   "cell_type": "code",
   "execution_count": 9,
   "id": "1e1e6946",
   "metadata": {},
   "outputs": [
    {
     "name": "stdout",
     "output_type": "stream",
     "text": [
      "There are 13 rows and 4 columns in the df3.\n"
     ]
    }
   ],
   "source": [
    "'''\n",
    "Understand the shape of the df3.\n",
    "'''\n",
    "print('There are {} rows and {} columns in the df3.'.format(df3.shape[0], df3.shape[1]))"
   ]
  },
  {
   "cell_type": "code",
   "execution_count": 10,
   "id": "ba07192c",
   "metadata": {},
   "outputs": [],
   "source": [
    "'''\n",
    "Convert Year to Date Time for df1.\n",
    "'''\n",
    "df1['Year'] = pd.to_datetime(df1['Year'])"
   ]
  },
  {
   "cell_type": "code",
   "execution_count": 11,
   "id": "89c81c57",
   "metadata": {},
   "outputs": [
    {
     "name": "stdout",
     "output_type": "stream",
     "text": [
      "<class 'pandas.core.frame.DataFrame'>\n",
      "RangeIndex: 31 entries, 0 to 30\n",
      "Data columns (total 5 columns):\n",
      " #   Column      Non-Null Count  Dtype         \n",
      "---  ------      --------------  -----         \n",
      " 0   Year        31 non-null     datetime64[ns]\n",
      " 1   Winner      31 non-null     object        \n",
      " 2   Dogs eaten  31 non-null     float64       \n",
      " 3   Country     31 non-null     object        \n",
      " 4   New record  31 non-null     int64         \n",
      "dtypes: datetime64[ns](1), float64(1), int64(1), object(2)\n",
      "memory usage: 1.3+ KB\n"
     ]
    }
   ],
   "source": [
    "'''\n",
    "Find the type of data within each df1 column initially.\n",
    "'''\n",
    "df1.info()"
   ]
  },
  {
   "cell_type": "code",
   "execution_count": 12,
   "id": "32f7db4b",
   "metadata": {},
   "outputs": [
    {
     "name": "stdout",
     "output_type": "stream",
     "text": [
      "<class 'pandas.core.frame.DataFrame'>\n",
      "RangeIndex: 3 entries, 0 to 2\n",
      "Data columns (total 11 columns):\n",
      " #   Column  Non-Null Count  Dtype  \n",
      "---  ------  --------------  -----  \n",
      " 0   2000    3 non-null      int64  \n",
      " 1   2001    3 non-null      float64\n",
      " 2   2002    3 non-null      float64\n",
      " 3   2003    3 non-null      float64\n",
      " 4   2004    3 non-null      float64\n",
      " 5   2005    3 non-null      int64  \n",
      " 6   2006    3 non-null      int64  \n",
      " 7   2007    3 non-null      int64  \n",
      " 8   2008    3 non-null      int64  \n",
      " 9   2009    3 non-null      float64\n",
      " 10  2010    3 non-null      int64  \n",
      "dtypes: float64(5), int64(6)\n",
      "memory usage: 392.0 bytes\n"
     ]
    }
   ],
   "source": [
    "'''\n",
    "Find the type of data within each df2 column initially.\n",
    "'''\n",
    "df2.info()"
   ]
  },
  {
   "cell_type": "code",
   "execution_count": 13,
   "id": "86e62f76",
   "metadata": {},
   "outputs": [
    {
     "name": "stdout",
     "output_type": "stream",
     "text": [
      "<class 'pandas.core.frame.DataFrame'>\n",
      "RangeIndex: 13 entries, 0 to 12\n",
      "Data columns (total 4 columns):\n",
      " #   Column      Non-Null Count  Dtype \n",
      "---  ------      --------------  ----- \n",
      " 0   Issue       13 non-null     object\n",
      " 1   Approve     13 non-null     int64 \n",
      " 2   Disapprove  13 non-null     int64 \n",
      " 3   None        13 non-null     int64 \n",
      "dtypes: int64(3), object(1)\n",
      "memory usage: 544.0+ bytes\n"
     ]
    }
   ],
   "source": [
    "'''\n",
    "Find the type of data within each df3 column initially.\n",
    "'''\n",
    "df3.info()"
   ]
  },
  {
   "cell_type": "code",
   "execution_count": 14,
   "id": "4bb0b05d",
   "metadata": {},
   "outputs": [
    {
     "data": {
      "text/plain": [
       "Year          0\n",
       "Winner        0\n",
       "Dogs eaten    0\n",
       "Country       0\n",
       "New record    0\n",
       "dtype: int64"
      ]
     },
     "execution_count": 14,
     "metadata": {},
     "output_type": "execute_result"
    }
   ],
   "source": [
    "'''\n",
    "Understand if there are any missing values in df1.\n",
    "'''\n",
    "df1.isna().sum().sort_values(ascending = False)"
   ]
  },
  {
   "cell_type": "code",
   "execution_count": 15,
   "id": "6f31eb92",
   "metadata": {},
   "outputs": [
    {
     "data": {
      "text/plain": [
       "2000    0\n",
       "2001    0\n",
       "2002    0\n",
       "2003    0\n",
       "2004    0\n",
       "2005    0\n",
       "2006    0\n",
       "2007    0\n",
       "2008    0\n",
       "2009    0\n",
       "2010    0\n",
       "dtype: int64"
      ]
     },
     "execution_count": 15,
     "metadata": {},
     "output_type": "execute_result"
    }
   ],
   "source": [
    "'''\n",
    "Understand if there are any missing values in df2.\n",
    "'''\n",
    "df2.isna().sum().sort_values(ascending = False)"
   ]
  },
  {
   "cell_type": "code",
   "execution_count": 16,
   "id": "bff2d02e",
   "metadata": {},
   "outputs": [
    {
     "data": {
      "text/plain": [
       "Issue         0\n",
       "Approve       0\n",
       "Disapprove    0\n",
       "None          0\n",
       "dtype: int64"
      ]
     },
     "execution_count": 16,
     "metadata": {},
     "output_type": "execute_result"
    }
   ],
   "source": [
    "'''\n",
    "Understand if there are any missing values in df3.\n",
    "'''\n",
    "df3.isna().sum().sort_values(ascending = False)"
   ]
  },
  {
   "cell_type": "code",
   "execution_count": 17,
   "id": "be0947ba",
   "metadata": {},
   "outputs": [
    {
     "data": {
      "text/html": [
       "<div>\n",
       "<style scoped>\n",
       "    .dataframe tbody tr th:only-of-type {\n",
       "        vertical-align: middle;\n",
       "    }\n",
       "\n",
       "    .dataframe tbody tr th {\n",
       "        vertical-align: top;\n",
       "    }\n",
       "\n",
       "    .dataframe thead th {\n",
       "        text-align: right;\n",
       "    }\n",
       "</style>\n",
       "<table border=\"1\" class=\"dataframe\">\n",
       "  <thead>\n",
       "    <tr style=\"text-align: right;\">\n",
       "      <th></th>\n",
       "      <th>Dogs eaten</th>\n",
       "    </tr>\n",
       "    <tr>\n",
       "      <th>Country</th>\n",
       "      <th></th>\n",
       "    </tr>\n",
       "  </thead>\n",
       "  <tbody>\n",
       "    <tr>\n",
       "      <th>Germany</th>\n",
       "      <td>9.50</td>\n",
       "    </tr>\n",
       "    <tr>\n",
       "      <th>Japan</th>\n",
       "      <td>369.88</td>\n",
       "    </tr>\n",
       "    <tr>\n",
       "      <th>Mexico</th>\n",
       "      <td>19.50</td>\n",
       "    </tr>\n",
       "    <tr>\n",
       "      <th>United States</th>\n",
       "      <td>499.85</td>\n",
       "    </tr>\n",
       "  </tbody>\n",
       "</table>\n",
       "</div>"
      ],
      "text/plain": [
       "               Dogs eaten\n",
       "Country                  \n",
       "Germany              9.50\n",
       "Japan              369.88\n",
       "Mexico              19.50\n",
       "United States      499.85"
      ]
     },
     "execution_count": 17,
     "metadata": {},
     "output_type": "execute_result"
    }
   ],
   "source": [
    "'''\n",
    "Group the data by country for number of hot dogs eaten.\n",
    "'''\n",
    "data = df1.groupby('Country')['Dogs eaten'].sum()\n",
    "chart_df = pd.DataFrame(data, columns = ['Dogs eaten'])\n",
    "chart_df.head()"
   ]
  },
  {
   "cell_type": "markdown",
   "id": "752f79e9",
   "metadata": {},
   "source": [
    "## Chart Creation from the Datasets. "
   ]
  },
  {
   "cell_type": "markdown",
   "id": "5e672546",
   "metadata": {},
   "source": [
    "### Bar Chart"
   ]
  },
  {
   "cell_type": "code",
   "execution_count": 18,
   "id": "87c67047",
   "metadata": {},
   "outputs": [
    {
     "data": {
      "image/png": "[encoded data removed]",
      "text/plain": [
       "<Figure size 576x432 with 1 Axes>"
      ]
     },
     "metadata": {
      "needs_background": "light"
     },
     "output_type": "display_data"
    }
   ],
   "source": [
    "'''\n",
    "Create a bar chart using one of the datasets from the previous section.\n",
    "Use Seaborn to construct the barplot with barplot()\n",
    "'''\n",
    "fig = plt.figure(figsize = (8,6))\n",
    "sns.barplot(x = chart_df.index, y = 'Dogs eaten', data = chart_df, \n",
    "            order = chart_df.sort_values('Dogs eaten', ascending = False).index)\n",
    "plt.title('Number of Hot Dog Eaten by Country', fontsize = 20)\n",
    "plt.xlabel('Country', fontsize = 14)\n",
    "plt.ylabel('Number of Dogs Eaten', fontsize = 14)\n",
    "plt.show()"
   ]
  },
  {
   "cell_type": "markdown",
   "id": "d601e724",
   "metadata": {},
   "source": [
    "### Stacked Bar Chart"
   ]
  },
  {
   "cell_type": "code",
   "execution_count": 27,
   "id": "2e83c1ab",
   "metadata": {},
   "outputs": [
    {
     "data": {
      "text/plain": [
       "<Figure size 864x432 with 0 Axes>"
      ]
     },
     "metadata": {},
     "output_type": "display_data"
    },
    {
     "data": {
      "image/png": "[encoded data removed]",
      "text/plain": [
       "<Figure size 432x288 with 1 Axes>"
      ]
     },
     "metadata": {},
     "output_type": "display_data"
    }
   ],
   "source": [
    "'''\n",
    "Create a stacked bar chart using one of the datsets from the previous section.\n",
    "Use Seaborn to construcked the stacked barplot.\n",
    "'''\n",
    "# Seaborn plotting aesthetics set to white.\n",
    "sns.set(style = 'white')\n",
    "\n",
    "# Create the stacked bar chart\n",
    "fig = plt.figure(figsize = (12,6))\n",
    "df3.set_index('Issue').plot(kind = 'bar', stacked = True, color = ['blue', 'red', 'black'])\n",
    "\n",
    "# Add axis and chart titles.\n",
    "plt.title('Obama Approval Ratings on Issues', fontsize = 18)\n",
    "plt.xlabel('Issue', fontsize = 14)\n",
    "plt.ylabel('Rating (%)', fontsize = 14)\n",
    "plt.legend(bbox_to_anchor=(1.4,.6), loc = 'upper right', borderaxespad = 0, fontsize = 14)\n",
    "plt.show()"
   ]
  },
  {
   "cell_type": "markdown",
   "id": "e11af84f",
   "metadata": {},
   "source": [
    "### Pie Chart"
   ]
  },
  {
   "cell_type": "code",
   "execution_count": 20,
   "id": "c1088e21",
   "metadata": {},
   "outputs": [
    {
     "data": {
      "text/html": [
       "<div>\n",
       "<style scoped>\n",
       "    .dataframe tbody tr th:only-of-type {\n",
       "        vertical-align: middle;\n",
       "    }\n",
       "\n",
       "    .dataframe tbody tr th {\n",
       "        vertical-align: top;\n",
       "    }\n",
       "\n",
       "    .dataframe thead th {\n",
       "        text-align: right;\n",
       "    }\n",
       "</style>\n",
       "<table border=\"1\" class=\"dataframe\">\n",
       "  <thead>\n",
       "    <tr style=\"text-align: right;\">\n",
       "      <th></th>\n",
       "      <th>Dogs eaten</th>\n",
       "    </tr>\n",
       "    <tr>\n",
       "      <th>Country</th>\n",
       "      <th></th>\n",
       "    </tr>\n",
       "  </thead>\n",
       "  <tbody>\n",
       "    <tr>\n",
       "      <th>Germany</th>\n",
       "      <td>9.50</td>\n",
       "    </tr>\n",
       "    <tr>\n",
       "      <th>Japan</th>\n",
       "      <td>369.88</td>\n",
       "    </tr>\n",
       "    <tr>\n",
       "      <th>Mexico</th>\n",
       "      <td>19.50</td>\n",
       "    </tr>\n",
       "    <tr>\n",
       "      <th>United States</th>\n",
       "      <td>499.85</td>\n",
       "    </tr>\n",
       "  </tbody>\n",
       "</table>\n",
       "</div>"
      ],
      "text/plain": [
       "               Dogs eaten\n",
       "Country                  \n",
       "Germany              9.50\n",
       "Japan              369.88\n",
       "Mexico              19.50\n",
       "United States      499.85"
      ]
     },
     "execution_count": 20,
     "metadata": {},
     "output_type": "execute_result"
    }
   ],
   "source": [
    "'''\n",
    "Group the data by country for number of hot dogs eaten.\n",
    "'''\n",
    "data = df1.groupby('Country')['Dogs eaten'].sum()\n",
    "pie_df = pd.DataFrame(data, columns = ['Dogs eaten'])\n",
    "pie_df.head()"
   ]
  },
  {
   "cell_type": "code",
   "execution_count": 21,
   "id": "22ca57a4",
   "metadata": {},
   "outputs": [
    {
     "data": {
      "text/plain": [
       "Text(0.5, 1.0, 'Percentage of Hot Dogs Eaten by Country')"
      ]
     },
     "execution_count": 21,
     "metadata": {},
     "output_type": "execute_result"
    },
    {
     "data": {
      "image/png": "[encoded data removed]",
      "text/plain": [
       "<Figure size 720x720 with 1 Axes>"
      ]
     },
     "metadata": {},
     "output_type": "display_data"
    }
   ],
   "source": [
    "'''\n",
    "Create a pie chart using one of the datsets from the previous section.\n",
    "Matplotlib will be used to create the plot.\n",
    "'''\n",
    "fig, ax = plt.subplots(figsize = (10,10))\n",
    "ax.pie(pie_df['Dogs eaten'], labels = pie_df.index, autopct='%1.2f%%', wedgeprops = {'linewidth':3.0, 'edgecolor': 'white'},\n",
    "      textprops = {'size': 'x-large'})\n",
    "plt.title(\"Percentage of Hot Dogs Eaten by Country\", fontsize = 20)"
   ]
  },
  {
   "cell_type": "markdown",
   "id": "4c326798",
   "metadata": {},
   "source": [
    "### Donut Chart"
   ]
  },
  {
   "cell_type": "code",
   "execution_count": 24,
   "id": "1fd53dfd",
   "metadata": {},
   "outputs": [
    {
     "data": {
      "image/png": "[encoded data removed]",
      "text/plain": [
       "<Figure size 864x720 with 1 Axes>"
      ]
     },
     "metadata": {},
     "output_type": "display_data"
    }
   ],
   "source": [
    "'''\n",
    "Create a donut chart using one of the datsets from the previous section.\n",
    "Seaborn and Matplotlib will be used to create the plot.\n",
    "'''\n",
    "fig = plt.figure(figsize = (12,10))\n",
    "pallet_color = sns.color_palette('bright')\n",
    "my_circle = plt.Circle((0,0), 0.7, color = 'white')\n",
    "plt.pie(pie_df['Dogs eaten'], labels = pie_df.index, colors = pallet_color, autopct = '%.2f%%', textprops = {'size': 'x-large'})\n",
    "p = plt.gcf()\n",
    "p.gca().add_artist(my_circle)\n",
    "plt.title('Percentage of Hot Dogs Eaten by Country', fontsize = 20)\n",
    "plt.show()"
   ]
  }
 ],
 "metadata": {
  "kernelspec": {
   "display_name": "Python 3 (ipykernel)",
   "language": "python",
   "name": "python3"
  },
  "language_info": {
   "codemirror_mode": {
    "name": "ipython",
    "version": 3
   },
   "file_extension": ".py",
   "mimetype": "text/x-python",
   "name": "python",
   "nbconvert_exporter": "python",
   "pygments_lexer": "ipython3",
   "version": "3.9.7"
  }
 },
 "nbformat": 4,
 "nbformat_minor": 5
}
